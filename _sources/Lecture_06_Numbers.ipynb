{
 "cells": [
  {
   "cell_type": "markdown",
   "metadata": {},
   "source": [
    "# 6 Numbers\n",
    "\n",
    "## 6.1 Numeric Types\n",
    "- Datatypes differ from system-to-system. This chapter covers how it works in SQLite\n",
    "- Fundamental numeric types: Integers and Real numbers\n",
    "    - Integer: INTEGER, DECIMAL, MONEY\n",
    "    - Real: REAL, FLOAT (sacrifice accuracy for scale)\n",
    "- Precision vs Scale\n",
    "    - precision: how many digits are represented\n",
    "    - scale: magnitude of numbers are represented\n",
    "        - floating point: large magnitude, few significant digits\n",
    "        \n",
    "## 6.2 typeof\n",
    "\n",
    "- `SELECT TYPEOF( 1 + 1 );`\n",
    "    - returns integer\n",
    "- `SELECT TYPEOF( 1 + 1.0 );`\n",
    "    - real\n",
    "- `SELECT TYPEOF('panda');`\n",
    "    - text\n",
    "- `SELECT TYPEOF('panda' + 'koala');`\n",
    "    - returns integer ?!?!?\n",
    "    \n",
    "## 6.3 INTEGER division\n",
    "\n",
    "- `SELECT 1 / 2;`\n",
    "    - returns 0 since 1 is an integer\n",
    "- `SELECT 1.0 / 2;`\n",
    "    - returns 0.5 since 1.0 is real\n",
    "- `SELECT CAST(1 AS REAL) / 2;`\n",
    "    - can get same result using one of the operands as a real number\n",
    "- `SELECT 17 / 5;`\n",
    "    - returns 3\n",
    "- `SELECT 17 / 5, 17 % 5;`\n",
    "    - modulo operator works as usual\n",
    "    - some system may use a different operator for modulo\n",
    "    \n",
    "## 6.4 ROUND()\n",
    "To round a numeric value to a specific number of decimal places\n",
    "- `SELECT 2.55555;`\n",
    "    - a real number with 5 places of precision\n",
    "- `SELECT ROUND(2.55555);`\n",
    "    - returns 3\n",
    "- `SELECT ROUND(2.55555, 3);`\n",
    "    - second argument rounds to that many decimal places\n",
    "    - returns 2.556\n",
    "- `SELECT ROUND(2.55555, 0);`\n",
    "    - default, returns 3"
   ]
  }
 ],
 "metadata": {
  "kernelspec": {
   "display_name": "Python 3",
   "language": "python",
   "name": "python3"
  },
  "language_info": {
   "codemirror_mode": {
    "name": "ipython",
    "version": 3
   },
   "file_extension": ".py",
   "mimetype": "text/x-python",
   "name": "python",
   "nbconvert_exporter": "python",
   "pygments_lexer": "ipython3",
   "version": "3.8.2"
  }
 },
 "nbformat": 4,
 "nbformat_minor": 4
}
