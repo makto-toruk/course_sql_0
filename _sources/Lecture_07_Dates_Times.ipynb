{
 "cells": [
  {
   "cell_type": "markdown",
   "metadata": {},
   "source": [
    "# 7 Dates and Times\n",
    "\n",
    "## 7.1 Standard format\n",
    "- `2018-03-28 15:32:47`\n",
    "    - helps sorting and searching operations\n",
    "- stored as UTC (coordinated universal time)\n",
    "    - allows unambigious date time calculations across geographical locations \n",
    "- SQL date and time types\n",
    "    - DATE, TIME, DATETIME, YEAR, INTERVAL\n",
    "\n",
    "## 7.2 DATE/TIME functions\n",
    "-- :memory:\n",
    "\n",
    "- `SELECT DATETIME('now');`\n",
    "    - returns current data and time in UTC\n",
    "    - SQL uses a string to represent this\n",
    "- `SELECT DATE('now');`\n",
    "    - returns only date\n",
    "- `SELECT TIME('now');`\n",
    "    - returns only time\n",
    "<br><br>\n",
    "Datetime arithmetic\n",
    "\n",
    "- `SELECT DATETIME('now', '+1 day');`\n",
    "    - now + 1 day\n",
    "- `SELECT DATETIME('now', '+3 days');`\n",
    "- `SELECT DATETIME('now', '-1 month');`\n",
    "    - 1 month ago\n",
    "- `SELECT DATETIME('now', '+1 year');`\n",
    "    - 1 year in the future\n",
    "- `SELECT DATETIME('now', '+3 hours', '+27 minutes', '-1 day', '+3 years');`\n"
   ]
  }
 ],
 "metadata": {
  "kernelspec": {
   "display_name": "Python 3",
   "language": "python",
   "name": "python3"
  },
  "language_info": {
   "codemirror_mode": {
    "name": "ipython",
    "version": 3
   },
   "file_extension": ".py",
   "mimetype": "text/x-python",
   "name": "python",
   "nbconvert_exporter": "python",
   "pygments_lexer": "ipython3",
   "version": "3.8.2"
  }
 },
 "nbformat": 4,
 "nbformat_minor": 4
}
