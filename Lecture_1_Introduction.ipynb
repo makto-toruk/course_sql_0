{
 "cells": [
  {
   "cell_type": "markdown",
   "metadata": {},
   "source": [
    "\n",
    "# 1 Installation\n",
    "\n",
    "## Introduction\n",
    "SQLite 3 used throughout. This course provides a foundation in Standard SQL.\n",
    "\n",
    "https://github.com/pawelsalawa/sqlitestudio/releases\n",
    "Didn't try the linux installation since the course came with instructions for windows."
   ]
  }
 ],
 "metadata": {
  "kernelspec": {
   "display_name": "Python 3",
   "language": "python",
   "name": "python3"
  },
  "language_info": {
   "codemirror_mode": {
    "name": "ipython",
    "version": 3
   },
   "file_extension": ".py",
   "mimetype": "text/x-python",
   "name": "python",
   "nbconvert_exporter": "python",
   "pygments_lexer": "ipython3",
   "version": "3.8.2"
  }
 },
 "nbformat": 4,
 "nbformat_minor": 4
}
