{
 "cells": [
  {
   "cell_type": "markdown",
   "metadata": {},
   "source": [
    "# 9 Transactions\n",
    "\n",
    "## 9.1 definition\n",
    "- transaction is a group of operations that are handled as one unit of work.\n",
    "- if any of these fails, the group is treated as failed. Db is restored to its state before group of operations\n",
    "    - applying only some operations may not make sense.\n",
    "- can also speed up performance by performing for example many write operations together (before making checks in memory)\n",
    "\n",
    "## 9.2 transactions\n",
    "-- test.db\n",
    "\n",
    "```sql\n",
    "CREATE TABLE widgetInventory (\n",
    "  id INTEGER PRIMARY KEY,\n",
    "  description TEXT,\n",
    "  onhand INTEGER NOT NULL\n",
    ");\n",
    "```\n",
    "\n",
    "```sql\n",
    "CREATE TABLE widgetSales (\n",
    "  id INTEGER PRIMARY KEY,\n",
    "  inv_id INTEGER,\n",
    "  quan INTEGER,\n",
    "  price INTEGER\n",
    ");\n",
    "```\n",
    "```sql\n",
    "INSERT INTO widgetInventory ( description, onhand ) VALUES ( 'rock', 25 );\n",
    "INSERT INTO widgetInventory ( description, onhand ) VALUES ( 'paper', 25 );\n",
    "INSERT INTO widgetInventory ( description, onhand ) VALUES ( 'scissors', 25 );\n",
    "```\n",
    "\n",
    "- Suppose you have the above two tables. Suppose we sell something from inventory, both the Sales and Inventory table need to be updated. It doesn't make sense to update only one.\n",
    "\n",
    "```sql\n",
    "BEGIN TRANSACTION;\n",
    "INSERT INTO widgetSales ( inv_id, quan, price ) VALUES ( 1, 5, 500 );\n",
    "UPDATE widgetInventory SET onhand = ( onhand - 5 ) WHERE id = 1;\n",
    "END TRANSACTION;\n",
    "```\n",
    "- ensures both are performed.\n",
    "\n",
    "## 9.3 performance\n",
    "Example:\n",
    "```sql\n",
    "BEGIN TRANSACTION;\n",
    "-- copy / paste 1,000 of these ...\n",
    "INSERT INTO test ( data ) VALUES ( 'this is a good sized line of text.' );\n",
    "-- put this after the 1,000 INSERT statements\n",
    "END TRANSACTION;\n",
    "```\n",
    "- Without the begin and end transaction, the speed in SQLite is ~20 times slower."
   ]
  }
 ],
 "metadata": {
  "kernelspec": {
   "display_name": "Python 3",
   "language": "python",
   "name": "python3"
  },
  "language_info": {
   "codemirror_mode": {
    "name": "ipython",
    "version": 3
   },
   "file_extension": ".py",
   "mimetype": "text/x-python",
   "name": "python",
   "nbconvert_exporter": "python",
   "pygments_lexer": "ipython3",
   "version": "3.8.2"
  }
 },
 "nbformat": 4,
 "nbformat_minor": 4
}